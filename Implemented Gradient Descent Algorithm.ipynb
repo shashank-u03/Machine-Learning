{
 "cells": [
  {
   "cell_type": "code",
   "execution_count": 12,
   "id": "484b1ca8",
   "metadata": {},
   "outputs": [
    {
     "name": "stdout",
     "output_type": "stream",
     "text": [
      "Value of Features:  [1. 2.]\n",
      "Value of Target:  [300. 500.]\n"
     ]
    }
   ],
   "source": [
    "import numpy as np\n",
    "import matplotlib.pyplot as plt\n",
    "# plt.style.use('./deeplearning.mplstyle')\n",
    "# from lab_utils_uni import plt_house_x, plt_contour_wgrad, plt_divergence, plt_gradients\n",
    "\n",
    "\n",
    "x_train=np.array([1.0, 2.0])\n",
    "y_train=np.array([300.0, 500.0])\n",
    "print(\"Value of Features: \",x_train)\n",
    "print(\"Value of Target: \",y_train)"
   ]
  },
  {
   "cell_type": "code",
   "execution_count": 13,
   "id": "12c208df",
   "metadata": {},
   "outputs": [],
   "source": [
    "# Function to define cost\n",
    "def compute_cost(x,y,w,b):\n",
    "    m=x.shape[0]\n",
    "    total_cost=0\n",
    "    temp=0\n",
    "    for i in range(0,m):\n",
    "        f_wb=w*x[i]+b\n",
    "        temp=temp + (f_wb-y[i])**2\n",
    "    total_cost=temp/(2*m)\n",
    "    return total_cost"
   ]
  },
  {
   "cell_type": "code",
   "execution_count": 14,
   "id": "52158df5",
   "metadata": {},
   "outputs": [],
   "source": [
    "# Function to calculate gradient\n",
    "def compute_gradient(x,y,w,b):\n",
    "    m=x.shape[0]\n",
    "    gradW=0\n",
    "    gradB=0\n",
    "    tempw=0\n",
    "    tempb=0\n",
    "    for i in range(0,m):\n",
    "        f_wb=w*x[i]+b\n",
    "        tempw=tempw+(f_wb-y[i])*x[i]\n",
    "        tempb=tempb+(f_wb-y[i])\n",
    "    gradW=tempw/m\n",
    "    gradB=tempb/m\n",
    "    return gradW,gradB"
   ]
  },
  {
   "cell_type": "code",
   "execution_count": 18,
   "id": "931e56a6",
   "metadata": {},
   "outputs": [],
   "source": [
    "# Now performing Gradient Descent algorithm\n",
    "def gradient_descent(x,y,w_in,b_in,alpha,num_iters):\n",
    "    \"\"\"\n",
    "    Gradient Descent is performed to change value of w and b so that it fits the best into linear regression equation.\n",
    "    Arguments in the function:\n",
    "        x(ndarray,m): m examples\n",
    "        y(ndarray,m) : target variables\n",
    "        w_in,b_in : initial values of w and b for computing next values of w abd b simultaneously\n",
    "        alpha : Learning Rate\n",
    "        num_iters : number of iterations needed for convergence of cost function to reach it's minimum value\n",
    "        cost_function : function to call to produce cost\n",
    "        gradient_function : function to call to produce gradient\n",
    "\n",
    "    Return:\n",
    "        w(scalar) : Updated value of w after running gradient descent\n",
    "        b(scalar) : Upadated value of b after running gradient descent\n",
    "        J_hist  : History of all cost values\n",
    "        p_hist : history of all parameters(w,b)\n",
    "    \"\"\"\n",
    "    J_hist=[]\n",
    "    p_hist=[]\n",
    "    b=b_in\n",
    "    w=w_in\n",
    "    \n",
    "    for i in range(num_iters):\n",
    "        gradw,gradb=compute_gradient(x,y,w,b)\n",
    "        \n",
    "        w = w - alpha*gradw\n",
    "        b = b - alpha*gradb\n",
    "        if i<100000:\n",
    "            J_hist.append(compute_cost(x,y,w,b))\n",
    "            p_hist.append([w,b])\n",
    "            \n",
    "    return w,b,J_hist,p_hist"
   ]
  },
  {
   "cell_type": "code",
   "execution_count": 25,
   "id": "f20fdf2d",
   "metadata": {},
   "outputs": [
    {
     "name": "stdout",
     "output_type": "stream",
     "text": [
      "Final values of w and b are:  199.99285075131766 100.011567727362\n"
     ]
    }
   ],
   "source": [
    "# Initialising parameters\n",
    "w_init=0\n",
    "b_init=0\n",
    "iterations=10000\n",
    "alpha=1.0e-2\n",
    "\n",
    "w_final,b_final,J_history,p_history=gradient_descent(x_train,y_train,w_init,b_init,alpha,iterations)\n",
    "print(\"Final values of w and b are: \",w_final,b_final)"
   ]
  },
  {
   "cell_type": "code",
   "execution_count": 26,
   "id": "659c5fdc",
   "metadata": {
    "scrolled": true
   },
   "outputs": [
    {
     "name": "stdout",
     "output_type": "stream",
     "text": [
      "1000 sqft house prediction 300.0 Thousand dollars\n",
      "1200 sqft house prediction 340.0 Thousand dollars\n",
      "2000 sqft house prediction 500.0 Thousand dollars\n"
     ]
    }
   ],
   "source": [
    "print(f\"1000 sqft house prediction {w_final*1.0 + b_final:0.1f} Thousand dollars\")\n",
    "print(f\"1200 sqft house prediction {w_final*1.2 + b_final:0.1f} Thousand dollars\")\n",
    "print(f\"2000 sqft house prediction {w_final*2.0 + b_final:0.1f} Thousand dollars\")"
   ]
  },
  {
   "cell_type": "code",
   "execution_count": null,
   "id": "302c6042",
   "metadata": {},
   "outputs": [],
   "source": []
  }
 ],
 "metadata": {
  "kernelspec": {
   "display_name": "Python 3 (ipykernel)",
   "language": "python",
   "name": "python3"
  },
  "language_info": {
   "codemirror_mode": {
    "name": "ipython",
    "version": 3
   },
   "file_extension": ".py",
   "mimetype": "text/x-python",
   "name": "python",
   "nbconvert_exporter": "python",
   "pygments_lexer": "ipython3",
   "version": "3.9.13"
  }
 },
 "nbformat": 4,
 "nbformat_minor": 5
}
