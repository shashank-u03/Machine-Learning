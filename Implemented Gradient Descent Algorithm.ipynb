{
 "cells": [
  {
   "cell_type": "code",
   "execution_count": 3,
   "id": "484b1ca8",
   "metadata": {},
   "outputs": [
    {
     "name": "stdout",
     "output_type": "stream",
     "text": [
      "Value of Features:  [1. 2.]\n",
      "Value of Target:  [300. 500.]\n"
     ]
    }
   ],
   "source": [
    "import numpy as np\n",
    "import matplotlib.pyplot as plt\n",
    "# plt.style.use('./deeplearning.mplstyle')\n",
    "# from lab_utils_uni import plt_house_x, plt_contour_wgrad, plt_divergence, plt_gradients\n",
    "\n",
    "\n",
    "x_train=np.array([1.0, 2.0])\n",
    "y_train=np.array([300.0, 500.0])\n",
    "print(\"Value of Features: \",x_train)\n",
    "print(\"Value of Target: \",y_train)"
   ]
  },
  {
   "cell_type": "code",
   "execution_count": 4,
   "id": "12c208df",
   "metadata": {},
   "outputs": [],
   "source": [
    "# Function to define cost\n",
    "def compute_cost(x,y,w,b):\n",
    "    m=x.shape[0]\n",
    "    total_cost=0\n",
    "    temp=0\n",
    "    for i in range(0,m):\n",
    "        f_wb=w*x[i]+b\n",
    "        temp=temp + (f_wb-y[i])**2\n",
    "    total_cost=temp/(2*m)\n",
    "    return total_cost"
   ]
  },
  {
   "cell_type": "code",
   "execution_count": 5,
   "id": "52158df5",
   "metadata": {},
   "outputs": [],
   "source": [
    "# Function to calculate gradient\n",
    "def compute_gradient(x,y,w,b):\n",
    "    m=x.shape[0]\n",
    "    gradW=0\n",
    "    gradB=0\n",
    "    tempw=0\n",
    "    tempb=0\n",
    "    for i in range(0,m):\n",
    "        f_wb=w*x[i]+b\n",
    "        tempw=tempw+(f_wb-y[i])*x[i]\n",
    "        tempb=tempb+(f_wb-y[i])\n",
    "    gradW=tempw/m\n",
    "    gradB=tempb/m\n",
    "    return gradW,gradB"
   ]
  },
  {
   "cell_type": "code",
   "execution_count": 11,
   "id": "931e56a6",
   "metadata": {},
   "outputs": [],
   "source": [
    "# Now performing Gradient Descent algorithm\n",
    "def gradient_descent(x,y,w_in,b_in,alpha,num_iters):\n",
    "    \"\"\"\n",
    "    Gradient Descent is performed to change value of w and b so that it fits the best into linear regression equation.\n",
    "    Arguments in the function:\n",
    "        x(ndarray,m): m examples\n",
    "        y(ndarray,m) : target variables\n",
    "        w_in,b_in : initial values of w and b for computing next values of w abd b simultaneously\n",
    "        alpha : Learning Rate\n",
    "        num_iters : number of iterations needed for convergence of cost function to reach it's minimum value\n",
    "        cost_function : function to call to produce cost\n",
    "        gradient_function : function to call to produce gradient\n",
    "\n",
    "    Return:\n",
    "        w(scalar) : Updated value of w after running gradient descent\n",
    "        b(scalar) : Upadated value of b after running gradient descent\n",
    "        J_hist  : History of all cost values\n",
    "        p_hist : history of all parameters(w,b)\n",
    "    \"\"\"\n",
    "    J_hist=[]\n",
    "    p_hist=[]\n",
    "    b=b_in\n",
    "    w=w_in\n",
    "    \n",
    "    for i in range(num_iters):\n",
    "        gradw,gradb=compute_gradient(x,y,w,b)\n",
    "        \n",
    "        w = w - alpha*gradw\n",
    "        b = b - alpha*gradb\n",
    "        if i<=100000:\n",
    "            J_hist.append(compute_cost(x,y,w,b))\n",
    "            p_hist.append([w,b])\n",
    "            if(i%100==0):\n",
    "                print(\"Value of w,b,Cost Function are: \",w,b,compute_cost(x,y,w,b))\n",
    "            \n",
    "    return w,b,J_hist,p_hist"
   ]
  },
  {
   "cell_type": "code",
   "execution_count": 12,
   "id": "f20fdf2d",
   "metadata": {},
   "outputs": [
    {
     "name": "stdout",
     "output_type": "stream",
     "text": [
      "Value of w,b,Cost Function are:  6.5 4.0 79274.8125\n",
      "Value of w,b,Cost Function are:  184.59679807363884 112.40972211516156 86.84970508329027\n",
      "Value of w,b,Cost Function are:  190.7118836679377 114.64573622598198 11.038223294493996\n",
      "Value of w,b,Cost Function are:  191.51943850078666 113.71012918732391 9.479334741089724\n",
      "Value of w,b,Cost Function are:  192.12097808061574 112.7481671541863 8.191983243496715\n",
      "Value of w,b,Cost Function are:  192.67562022511058 111.85108446847413 7.079510310868737\n",
      "Value of w,b,Cost Function are:  193.19108900655777 111.0170490787085 6.118111466142633\n",
      "Value of w,b,Cost Function are:  193.67027661837028 110.24170756061314 5.287270767157324\n",
      "Value of w,b,Cost Function are:  194.1157405418912 109.5209318015296 4.569258392878347\n",
      "Value of w,b,Cost Function are:  194.52985425962223 108.85088173133715 3.948752235383136\n",
      "Value of w,b,Cost Function are:  194.91482409389593 108.2279874548482 3.4125109319154174\n",
      "Value of w,b,Cost Function are:  195.27270108999792 107.64893031136371 2.949091299295567\n",
      "Value of w,b,Cost Function are:  195.60539194766443 107.1106251959129 2.548604140792952\n",
      "Value of w,b,Cost Function are:  195.91466917973167 106.6102041224816 2.202503214470976\n",
      "Value of w,b,Cost Function are:  196.20218055574625 106.14500094393783 1.9034028596711572\n",
      "Value of w,b,Cost Function are:  196.46945788096426 105.71253714731284 1.6449203898549272\n",
      "Value of w,b,Cost Function are:  196.71792515751508 105.31050864876153 1.4215398885278132\n",
      "Value of w,b,Cost Function are:  196.94890617121024 104.93677351784687 1.2284945017028241\n",
      "Value of w,b,Cost Function are:  197.16363154441933 104.58934056574756 1.0616647150697145\n",
      "Value of w,b,Cost Function are:  197.36324529258934 104.26635873658677 0.9174904451438306\n",
      "Value of w,b,Cost Function are:  197.5488109193384 103.96610724536305 0.7928950684538176\n",
      "Value of w,b,Cost Function are:  197.72131708259846 103.68698640993934 0.6852197675800903\n",
      "Value of w,b,Cost Function are:  197.88168286199453 103.42750912824414 0.5921667930134331\n",
      "Value of w,b,Cost Function are:  198.03076265552357 103.18629295527853 0.5117504300645481\n",
      "Value of w,b,Cost Function are:  198.1693507316228 102.96205273771449 0.4422546244758681\n",
      "Value of w,b,Cost Function are:  198.29818546087893 102.7535937668466 0.3821963624840068\n",
      "Value of w,b,Cost Function are:  198.41795324992472 102.55980541341306 0.33029402387623996\n",
      "Value of w,b,Cost Function are:  198.5292921984811 102.37965521037727 0.28544003270810303\n",
      "Value of w,b,Cost Function are:  198.63279549902947 102.2121833521421 0.24667722205878423\n",
      "Value of w,b,Cost Function are:  198.72901459722766 102.05649758089058 0.21317840845702343\n",
      "Value of w,b,Cost Function are:  198.81846212990547 101.91176843280807 0.1842287401041018\n",
      "Value of w,b,Cost Function are:  198.9016146562955 101.77722481885868 0.15921044221131833\n",
      "Value of w,b,Cost Function are:  198.9789151970487 101.65214991657115 0.13758963392355794\n",
      "Value of w,b,Cost Function are:  199.05077559456356 101.53587735094705 0.1189049355072536\n",
      "Value of w,b,Cost Function are:  199.11757870720243 101.42778764414307 0.1027576226842888\n",
      "Value of w,b,Cost Function are:  199.1796804490878 101.327304915012 0.08880311800919871\n",
      "Value of w,b,Cost Function are:  199.2374116863439 101.23389381091906 0.07674363771905501\n",
      "Value of w,b,Cost Function are:  199.29107999988756 101.1470566554865 0.06632183714251148\n",
      "Value of w,b,Cost Function are:  199.34097132416053 101.06633079706904 0.05731531906346955\n",
      "Value of w,b,Cost Function are:  199.38735147053296 100.99128614383532 0.049531887849966594\n",
      "Value of w,b,Cost Function are:  199.43046754349498 100.92152287232139 0.04280544807338754\n",
      "Value of w,b,Cost Function are:  199.47054925718191 100.85666929724844 0.03699246009589656\n",
      "Value of w,b,Cost Function are:  199.5078101592475 100.79637989125492 0.03196887698968801\n",
      "Value of w,b,Cost Function are:  199.54244876860398 100.74033344399311 0.027627497423315734\n",
      "Value of w,b,Cost Function are:  199.5746496330929 100.68823135078291 0.02387567802651798\n",
      "Value of w,b,Cost Function are:  199.60458431272056 100.639796021703 0.020633356416315897\n",
      "Value of w,b,Cost Function are:  199.63241229369675 100.59476940264538 0.017831342696523346\n",
      "Value of w,b,Cost Function are:  199.65828183814608 100.55291160045282 0.01540984297200712\n",
      "Value of w,b,Cost Function are:  199.68233077402084 100.51399960481416 0.013317183369942085\n",
      "Value of w,b,Cost Function are:  199.7046872294211 100.47782610010857 0.011508707339256798\n",
      "Value of w,b,Cost Function are:  199.72547031523698 100.44419836086742 0.0099458226969803\n",
      "Value of w,b,Cost Function are:  199.74479075974816 100.41293722497046 0.008595178085934518\n",
      "Value of w,b,Cost Function are:  199.76275149856335 100.38387613910452 0.007427951269563228\n",
      "Value of w,b,Cost Function are:  199.77944822304082 100.3568602713991 0.006419234076522876\n",
      "Value of w,b,Cost Function are:  199.794969890114 100.33174568651266 0.00554750086986524\n",
      "Value of w,b,Cost Function are:  199.80939919623665 100.30839857877217 0.004794149198215955\n",
      "Value of w,b,Cost Function are:  199.82281301797357 100.28669455928281 0.00414310282664904\n",
      "Value of w,b,Cost Function are:  199.83528282158449 100.26651799320734 0.00358046867597704\n",
      "Value of w,b,Cost Function are:  199.84687504378206 100.24776138368641 0.0030942403498178386\n",
      "Value of w,b,Cost Function are:  199.85765144569461 100.23032479911559 0.0026740419226860064\n",
      "Value of w,b,Cost Function are:  199.86766944191632 100.21411534072959 0.0023109065217603642\n",
      "Value of w,b,Cost Function are:  199.87698240640245 100.199046647655 0.0019970849772465845\n",
      "Value of w,b,Cost Function are:  199.88563995683484 100.1850384367962 0.0017258804580717688\n",
      "Value of w,b,Cost Function are:  199.893688218975 100.17201607510289 0.0014915055641081866\n",
      "Value of w,b,Cost Function are:  199.90117007241454 100.15991018193901 0.0012889588252531095\n",
      "Value of w,b,Cost Function are:  199.90812537902775 100.14865625943655 0.001113917971998578\n",
      "Value of w,b,Cost Function are:  199.91459119534935 100.13819434886322 0.0009626476998564485\n",
      "Value of w,b,Cost Function are:  199.9206019700037 100.12846871117382 0.0008319199594003336\n",
      "Value of w,b,Cost Function are:  199.92618972724082 100.11942753004324 0.0007189450709245652\n",
      "Value of w,b,Cost Function are:  199.93138423755556 100.11102263579913 0.0006213121937599937\n",
      "Value of w,b,Cost Function are:  199.93621317629874 100.1032092487831 0.0005369378798549629\n",
      "Value of w,b,Cost Function are:  199.94070227112624 100.09594574077339 0.00046402161380046175\n",
      "Value of w,b,Cost Function are:  199.94487543907104 100.08919341319798 0.0004010073905250198\n",
      "Value of w,b,Cost Function are:  199.94875491396834 100.08291629095554 0.0003465505107380359\n",
      "Value of w,b,Cost Function are:  199.95236136491374 100.0770809307472 0.00029948888556717194\n",
      "Value of w,b,Cost Function are:  199.9557140063833 100.07165624289736 0.000258818238031905\n",
      "Value of w,b,Cost Function are:  199.95883070060538 100.06661332571349 0.00022367067215521772\n",
      "Value of w,b,Cost Function are:  199.96172805272673 100.0619253115038 0.00019329615240017739\n",
      "Value of w,b,Cost Function are:  199.9644214992816 100.05756722343118 0.00016704649819513224\n",
      "Value of w,b,Cost Function are:  199.96692539043457 100.05351584244139 0.00014436155201662395\n",
      "Value of w,b,Cost Function are:  199.9692530664359 100.04974958355662 0.00012475722583692557\n",
      "Value of w,b,Cost Function are:  199.97141692869488 100.04624838087457 0.00010781517087519805\n",
      "Value of w,b,Cost Function are:  199.97342850585306 100.04299358066166 9.317385019508706e-05\n",
      "Value of w,b,Cost Function are:  199.9752985152063 100.03996784196877 8.052082364408339e-05\n",
      "Value of w,b,Cost Function are:  199.97703691980433 100.03715504424294 6.958608050187763e-05\n",
      "Value of w,b,Cost Function are:  199.97865298153232 100.03454020143917 6.013627755423343e-05\n",
      "Value of w,b,Cost Function are:  199.9801553104559 100.03210938217853 5.196975964174503e-05\n",
      "Value of w,b,Cost Function are:  199.9815519106943 100.02984963552416 4.491225641300794e-05\n",
      "Value of w,b,Cost Function are:  199.98285022306467 100.02774892198084 3.88131634627756e-05\n",
      "Value of w,b,Cost Function are:  199.98405716472539 100.02579604935129 3.3542328493674426e-05\n",
      "Value of w,b,Cost Function are:  199.9851791660294 100.0239806131061 2.8987273914308145e-05\n",
      "Value of w,b,Cost Function are:  199.98622220478345 100.02229294095044 2.505079661177804e-05\n",
      "Value of w,b,Cost Function are:  199.9871918380972 100.02072404129211 2.1648893674476164e-05\n",
      "Value of w,b,Cost Function are:  199.98809323199038 100.01926555533575 1.8708969801985955e-05\n",
      "Value of w,b,Cost Function are:  199.98893118891593 100.017909712549 1.6168288150027935e-05\n",
      "Value of w,b,Cost Function are:  199.98971017334736 100.01664928926242 1.3972631548662224e-05\n",
      "Value of w,b,Cost Function are:  199.99043433556332 100.01547757018355 1.2075145530754985e-05\n",
      "Value of w,b,Cost Function are:  199.99110753376084 100.0143883126187 1.0435338474447578e-05\n",
      "Value of w,b,Cost Function are:  199.9917333546104 100.01337571321332 9.018217527861667e-06\n",
      "Value of w,b,Cost Function are:  199.992315132365 100.01243437703256 7.793541874956948e-06\n",
      "Final values of w and b are:  199.99285075131766 100.011567727362\n"
     ]
    }
   ],
   "source": [
    "# Initialising parameters\n",
    "w_init=0\n",
    "b_init=0\n",
    "iterations=10000\n",
    "alpha=1.0e-2\n",
    "\n",
    "w_final,b_final,J_history,p_history=gradient_descent(x_train,y_train,w_init,b_init,alpha,iterations)\n",
    "print(\"Final values of w and b are: \",w_final,b_final)"
   ]
  },
  {
   "cell_type": "code",
   "execution_count": 13,
   "id": "659c5fdc",
   "metadata": {
    "scrolled": true
   },
   "outputs": [
    {
     "name": "stdout",
     "output_type": "stream",
     "text": [
      "1000 sqft house prediction 300.0 Thousand dollars\n",
      "1200 sqft house prediction 340.0 Thousand dollars\n",
      "2000 sqft house prediction 500.0 Thousand dollars\n"
     ]
    }
   ],
   "source": [
    "print(f\"1000 sqft house prediction {w_final*1.0 + b_final:0.1f} Thousand dollars\")\n",
    "print(f\"1200 sqft house prediction {w_final*1.2 + b_final:0.1f} Thousand dollars\")\n",
    "print(f\"2000 sqft house prediction {w_final*2.0 + b_final:0.1f} Thousand dollars\")"
   ]
  },
  {
   "cell_type": "code",
   "execution_count": null,
   "id": "302c6042",
   "metadata": {},
   "outputs": [],
   "source": []
  }
 ],
 "metadata": {
  "kernelspec": {
   "display_name": "Python 3 (ipykernel)",
   "language": "python",
   "name": "python3"
  },
  "language_info": {
   "codemirror_mode": {
    "name": "ipython",
    "version": 3
   },
   "file_extension": ".py",
   "mimetype": "text/x-python",
   "name": "python",
   "nbconvert_exporter": "python",
   "pygments_lexer": "ipython3",
   "version": "3.9.13"
  }
 },
 "nbformat": 4,
 "nbformat_minor": 5
}
